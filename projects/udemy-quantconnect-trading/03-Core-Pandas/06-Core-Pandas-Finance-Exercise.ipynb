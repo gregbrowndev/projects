{
 "cells": [
  {
   "cell_type": "markdown",
   "metadata": {},
   "source": [
    "___\n",
    "\n",
    "<a href='http://www.pieriandata.com'><img src='../Pierian_Data_Logo.png'/></a>\n",
    "___\n",
    "<center><em>Copyright by Pierian Data Inc.</em></center>\n",
    "<center><em>For more information, visit us at <a href='http://www.pieriandata.com'>www.pieriandata.com</a></em></center>"
   ]
  },
  {
   "cell_type": "markdown",
   "metadata": {},
   "source": [
    "# Pandas Project Exercise - \n",
    "\n",
    "# The Data\n",
    "\n",
    "The dataset contains a list of all stocks included in the SP500 and associated key financials. <br />\n",
    "\n",
    "Note that there are multiple viable solutions for most of the tasks!\n",
    "\n",
    "\n",
    "Acknowledgements\n",
    "----------------------------\n",
    "The dataset was originally provided on https://datahub.io/core/s-and-p-500-companies-financials and is licensed under Open Data Commons Public Domain Dedication and License. (https://opendatacommons.org/licenses/pddl/1-0/)"
   ]
  },
  {
   "cell_type": "markdown",
   "metadata": {},
   "source": [
    "**Task: Import the necessary libraries**"
   ]
  },
  {
   "cell_type": "code",
   "execution_count": 1,
   "metadata": {},
   "outputs": [],
   "source": [
    "# CODE HERE\n",
    "import pandas as pd"
   ]
  },
  {
   "cell_type": "markdown",
   "metadata": {},
   "source": [
    "**Task: Read the two datasets provided in the current directory (also available in the DATA folder. (The file names are: constituents.csv and constituents-financials.csv)**"
   ]
  },
  {
   "cell_type": "code",
   "execution_count": 2,
   "metadata": {},
   "outputs": [],
   "source": [
    "# CODE HERE\n",
    "constituents = pd.read_csv(\"constituents.csv\")\n",
    "financials = pd.read_csv(\"constituents-financials.csv\")"
   ]
  },
  {
   "cell_type": "markdown",
   "metadata": {},
   "source": [
    "**Task: List all columns of the two datasets. Additionally retrieve the datatype for each column**"
   ]
  },
  {
   "cell_type": "code",
   "execution_count": 5,
   "metadata": {},
   "outputs": [
    {
     "name": "stdout",
     "output_type": "stream",
     "text": [
      "<class 'pandas.core.frame.DataFrame'>\n",
      "RangeIndex: 505 entries, 0 to 504\n",
      "Data columns (total 3 columns):\n",
      " #   Column  Non-Null Count  Dtype \n",
      "---  ------  --------------  ----- \n",
      " 0   Symbol  505 non-null    object\n",
      " 1   Name    505 non-null    object\n",
      " 2   Sector  505 non-null    object\n",
      "dtypes: object(3)\n",
      "memory usage: 12.0+ KB\n"
     ]
    }
   ],
   "source": [
    "# CODE HERE\n",
    "constituents.info()"
   ]
  },
  {
   "cell_type": "code",
   "execution_count": 6,
   "outputs": [
    {
     "name": "stdout",
     "output_type": "stream",
     "text": [
      "<class 'pandas.core.frame.DataFrame'>\n",
      "RangeIndex: 505 entries, 0 to 504\n",
      "Data columns (total 12 columns):\n",
      " #   Column          Non-Null Count  Dtype  \n",
      "---  ------          --------------  -----  \n",
      " 0   Symbol          505 non-null    object \n",
      " 1   Price           505 non-null    float64\n",
      " 2   Price/Earnings  503 non-null    float64\n",
      " 3   Dividend Yield  505 non-null    float64\n",
      " 4   Earnings/Share  505 non-null    float64\n",
      " 5   52 Week Low     505 non-null    float64\n",
      " 6   52 Week High    505 non-null    float64\n",
      " 7   Market Cap      505 non-null    int64  \n",
      " 8   EBITDA          505 non-null    float64\n",
      " 9   Price/Sales     505 non-null    float64\n",
      " 10  Price/Book      497 non-null    float64\n",
      " 11  SEC Filings     505 non-null    object \n",
      "dtypes: float64(9), int64(1), object(2)\n",
      "memory usage: 47.5+ KB\n"
     ]
    }
   ],
   "source": [
    "financials.info()"
   ],
   "metadata": {
    "collapsed": false,
    "pycharm": {
     "name": "#%%\n"
    }
   }
  },
  {
   "cell_type": "markdown",
   "metadata": {},
   "source": [
    "**Task: Print the first 5 rows of both datasets**"
   ]
  },
  {
   "cell_type": "code",
   "execution_count": 7,
   "metadata": {},
   "outputs": [
    {
     "data": {
      "text/plain": "  Symbol                 Name                  Sector\n0    MMM           3M Company             Industrials\n1    AOS      A.O. Smith Corp             Industrials\n2    ABT  Abbott Laboratories             Health Care\n3   ABBV          AbbVie Inc.             Health Care\n4    ACN        Accenture plc  Information Technology",
      "text/html": "<div>\n<style scoped>\n    .dataframe tbody tr th:only-of-type {\n        vertical-align: middle;\n    }\n\n    .dataframe tbody tr th {\n        vertical-align: top;\n    }\n\n    .dataframe thead th {\n        text-align: right;\n    }\n</style>\n<table border=\"1\" class=\"dataframe\">\n  <thead>\n    <tr style=\"text-align: right;\">\n      <th></th>\n      <th>Symbol</th>\n      <th>Name</th>\n      <th>Sector</th>\n    </tr>\n  </thead>\n  <tbody>\n    <tr>\n      <th>0</th>\n      <td>MMM</td>\n      <td>3M Company</td>\n      <td>Industrials</td>\n    </tr>\n    <tr>\n      <th>1</th>\n      <td>AOS</td>\n      <td>A.O. Smith Corp</td>\n      <td>Industrials</td>\n    </tr>\n    <tr>\n      <th>2</th>\n      <td>ABT</td>\n      <td>Abbott Laboratories</td>\n      <td>Health Care</td>\n    </tr>\n    <tr>\n      <th>3</th>\n      <td>ABBV</td>\n      <td>AbbVie Inc.</td>\n      <td>Health Care</td>\n    </tr>\n    <tr>\n      <th>4</th>\n      <td>ACN</td>\n      <td>Accenture plc</td>\n      <td>Information Technology</td>\n    </tr>\n  </tbody>\n</table>\n</div>"
     },
     "execution_count": 7,
     "metadata": {},
     "output_type": "execute_result"
    }
   ],
   "source": [
    "# CODE HERE\n",
    "constituents.head()"
   ]
  },
  {
   "cell_type": "code",
   "execution_count": 8,
   "outputs": [
    {
     "data": {
      "text/plain": "  Symbol   Price  Price/Earnings  Dividend Yield  Earnings/Share  52 Week Low  \\\n0    MMM  222.89           24.31        2.332862            7.92       259.77   \n1    AOS   60.24           27.76        1.147959            1.70        68.39   \n2    ABT   56.27           22.51        1.908982            0.26        64.60   \n3   ABBV  108.48           19.41        2.499560            3.29       125.86   \n4    ACN  150.51           25.47        1.714470            5.44       162.60   \n\n   52 Week High    Market Cap        EBITDA  Price/Sales  Price/Book  \\\n0       175.490  138721055226  9.048000e+09     4.390271       11.34   \n1        48.925   10783419933  6.010000e+08     3.575483        6.35   \n2        42.280  102121042306  5.744000e+09     3.740480        3.19   \n3        60.050  181386347059  1.031000e+10     6.291571       26.14   \n4       114.820   98765855553  5.643228e+09     2.604117       10.62   \n\n                                         SEC Filings  \n0  http://www.sec.gov/cgi-bin/browse-edgar?action...  \n1  http://www.sec.gov/cgi-bin/browse-edgar?action...  \n2  http://www.sec.gov/cgi-bin/browse-edgar?action...  \n3  http://www.sec.gov/cgi-bin/browse-edgar?action...  \n4  http://www.sec.gov/cgi-bin/browse-edgar?action...  ",
      "text/html": "<div>\n<style scoped>\n    .dataframe tbody tr th:only-of-type {\n        vertical-align: middle;\n    }\n\n    .dataframe tbody tr th {\n        vertical-align: top;\n    }\n\n    .dataframe thead th {\n        text-align: right;\n    }\n</style>\n<table border=\"1\" class=\"dataframe\">\n  <thead>\n    <tr style=\"text-align: right;\">\n      <th></th>\n      <th>Symbol</th>\n      <th>Price</th>\n      <th>Price/Earnings</th>\n      <th>Dividend Yield</th>\n      <th>Earnings/Share</th>\n      <th>52 Week Low</th>\n      <th>52 Week High</th>\n      <th>Market Cap</th>\n      <th>EBITDA</th>\n      <th>Price/Sales</th>\n      <th>Price/Book</th>\n      <th>SEC Filings</th>\n    </tr>\n  </thead>\n  <tbody>\n    <tr>\n      <th>0</th>\n      <td>MMM</td>\n      <td>222.89</td>\n      <td>24.31</td>\n      <td>2.332862</td>\n      <td>7.92</td>\n      <td>259.77</td>\n      <td>175.490</td>\n      <td>138721055226</td>\n      <td>9.048000e+09</td>\n      <td>4.390271</td>\n      <td>11.34</td>\n      <td>http://www.sec.gov/cgi-bin/browse-edgar?action...</td>\n    </tr>\n    <tr>\n      <th>1</th>\n      <td>AOS</td>\n      <td>60.24</td>\n      <td>27.76</td>\n      <td>1.147959</td>\n      <td>1.70</td>\n      <td>68.39</td>\n      <td>48.925</td>\n      <td>10783419933</td>\n      <td>6.010000e+08</td>\n      <td>3.575483</td>\n      <td>6.35</td>\n      <td>http://www.sec.gov/cgi-bin/browse-edgar?action...</td>\n    </tr>\n    <tr>\n      <th>2</th>\n      <td>ABT</td>\n      <td>56.27</td>\n      <td>22.51</td>\n      <td>1.908982</td>\n      <td>0.26</td>\n      <td>64.60</td>\n      <td>42.280</td>\n      <td>102121042306</td>\n      <td>5.744000e+09</td>\n      <td>3.740480</td>\n      <td>3.19</td>\n      <td>http://www.sec.gov/cgi-bin/browse-edgar?action...</td>\n    </tr>\n    <tr>\n      <th>3</th>\n      <td>ABBV</td>\n      <td>108.48</td>\n      <td>19.41</td>\n      <td>2.499560</td>\n      <td>3.29</td>\n      <td>125.86</td>\n      <td>60.050</td>\n      <td>181386347059</td>\n      <td>1.031000e+10</td>\n      <td>6.291571</td>\n      <td>26.14</td>\n      <td>http://www.sec.gov/cgi-bin/browse-edgar?action...</td>\n    </tr>\n    <tr>\n      <th>4</th>\n      <td>ACN</td>\n      <td>150.51</td>\n      <td>25.47</td>\n      <td>1.714470</td>\n      <td>5.44</td>\n      <td>162.60</td>\n      <td>114.820</td>\n      <td>98765855553</td>\n      <td>5.643228e+09</td>\n      <td>2.604117</td>\n      <td>10.62</td>\n      <td>http://www.sec.gov/cgi-bin/browse-edgar?action...</td>\n    </tr>\n  </tbody>\n</table>\n</div>"
     },
     "execution_count": 8,
     "metadata": {},
     "output_type": "execute_result"
    }
   ],
   "source": [
    "financials.head()"
   ],
   "metadata": {
    "collapsed": false,
    "pycharm": {
     "name": "#%%\n"
    }
   }
  },
  {
   "cell_type": "markdown",
   "metadata": {},
   "source": [
    "**Task: Drop the SEC Filings column**"
   ]
  },
  {
   "cell_type": "code",
   "execution_count": 9,
   "metadata": {},
   "outputs": [],
   "source": [
    "# CODE HERE\n",
    "financials = financials.drop([\"SEC Filings\"], axis=1)"
   ]
  },
  {
   "cell_type": "markdown",
   "metadata": {},
   "source": [
    "**Task: Set the Symbol column to the index in the financials dataset**"
   ]
  },
  {
   "cell_type": "code",
   "execution_count": 11,
   "metadata": {},
   "outputs": [
    {
     "ename": "KeyError",
     "evalue": "\"None of ['Symbol'] are in the columns\"",
     "output_type": "error",
     "traceback": [
      "\u001B[0;31m---------------------------------------------------------------------------\u001B[0m",
      "\u001B[0;31mKeyError\u001B[0m                                  Traceback (most recent call last)",
      "\u001B[0;32m/var/folders/gb/c2vrnf597zxdkqkcw4v2sn980000gp/T/ipykernel_22104/126666621.py\u001B[0m in \u001B[0;36m<module>\u001B[0;34m\u001B[0m\n\u001B[1;32m      1\u001B[0m \u001B[0;31m# CODE HERE\u001B[0m\u001B[0;34m\u001B[0m\u001B[0;34m\u001B[0m\u001B[0m\n\u001B[0;32m----> 2\u001B[0;31m \u001B[0mfinancials\u001B[0m \u001B[0;34m=\u001B[0m \u001B[0mfinancials\u001B[0m\u001B[0;34m.\u001B[0m\u001B[0mset_index\u001B[0m\u001B[0;34m(\u001B[0m\u001B[0;34m\"Symbol\"\u001B[0m\u001B[0;34m)\u001B[0m\u001B[0;34m\u001B[0m\u001B[0;34m\u001B[0m\u001B[0m\n\u001B[0m\u001B[1;32m      3\u001B[0m \u001B[0mfinancials\u001B[0m\u001B[0;34m.\u001B[0m\u001B[0mhead\u001B[0m\u001B[0;34m(\u001B[0m\u001B[0;34m)\u001B[0m\u001B[0;34m\u001B[0m\u001B[0;34m\u001B[0m\u001B[0m\n",
      "\u001B[0;32m/opt/anaconda3/lib/python3.9/site-packages/pandas/util/_decorators.py\u001B[0m in \u001B[0;36mwrapper\u001B[0;34m(*args, **kwargs)\u001B[0m\n\u001B[1;32m    309\u001B[0m                     \u001B[0mstacklevel\u001B[0m\u001B[0;34m=\u001B[0m\u001B[0mstacklevel\u001B[0m\u001B[0;34m,\u001B[0m\u001B[0;34m\u001B[0m\u001B[0;34m\u001B[0m\u001B[0m\n\u001B[1;32m    310\u001B[0m                 )\n\u001B[0;32m--> 311\u001B[0;31m             \u001B[0;32mreturn\u001B[0m \u001B[0mfunc\u001B[0m\u001B[0;34m(\u001B[0m\u001B[0;34m*\u001B[0m\u001B[0margs\u001B[0m\u001B[0;34m,\u001B[0m \u001B[0;34m**\u001B[0m\u001B[0mkwargs\u001B[0m\u001B[0;34m)\u001B[0m\u001B[0;34m\u001B[0m\u001B[0;34m\u001B[0m\u001B[0m\n\u001B[0m\u001B[1;32m    312\u001B[0m \u001B[0;34m\u001B[0m\u001B[0m\n\u001B[1;32m    313\u001B[0m         \u001B[0;32mreturn\u001B[0m \u001B[0mwrapper\u001B[0m\u001B[0;34m\u001B[0m\u001B[0;34m\u001B[0m\u001B[0m\n",
      "\u001B[0;32m/opt/anaconda3/lib/python3.9/site-packages/pandas/core/frame.py\u001B[0m in \u001B[0;36mset_index\u001B[0;34m(self, keys, drop, append, inplace, verify_integrity)\u001B[0m\n\u001B[1;32m   5449\u001B[0m \u001B[0;34m\u001B[0m\u001B[0m\n\u001B[1;32m   5450\u001B[0m         \u001B[0;32mif\u001B[0m \u001B[0mmissing\u001B[0m\u001B[0;34m:\u001B[0m\u001B[0;34m\u001B[0m\u001B[0;34m\u001B[0m\u001B[0m\n\u001B[0;32m-> 5451\u001B[0;31m             \u001B[0;32mraise\u001B[0m \u001B[0mKeyError\u001B[0m\u001B[0;34m(\u001B[0m\u001B[0;34mf\"None of {missing} are in the columns\"\u001B[0m\u001B[0;34m)\u001B[0m\u001B[0;34m\u001B[0m\u001B[0;34m\u001B[0m\u001B[0m\n\u001B[0m\u001B[1;32m   5452\u001B[0m \u001B[0;34m\u001B[0m\u001B[0m\n\u001B[1;32m   5453\u001B[0m         \u001B[0;32mif\u001B[0m \u001B[0minplace\u001B[0m\u001B[0;34m:\u001B[0m\u001B[0;34m\u001B[0m\u001B[0;34m\u001B[0m\u001B[0m\n",
      "\u001B[0;31mKeyError\u001B[0m: \"None of ['Symbol'] are in the columns\""
     ]
    }
   ],
   "source": [
    "# CODE HERE\n",
    "financials = financials.set_index(\"Symbol\")"
   ]
  },
  {
   "cell_type": "code",
   "execution_count": 12,
   "outputs": [
    {
     "data": {
      "text/plain": "         Price  Price/Earnings  Dividend Yield  Earnings/Share  52 Week Low  \\\nSymbol                                                                        \nMMM     222.89           24.31        2.332862            7.92       259.77   \nAOS      60.24           27.76        1.147959            1.70        68.39   \nABT      56.27           22.51        1.908982            0.26        64.60   \nABBV    108.48           19.41        2.499560            3.29       125.86   \nACN     150.51           25.47        1.714470            5.44       162.60   \n\n        52 Week High    Market Cap        EBITDA  Price/Sales  Price/Book  \nSymbol                                                                     \nMMM          175.490  138721055226  9.048000e+09     4.390271       11.34  \nAOS           48.925   10783419933  6.010000e+08     3.575483        6.35  \nABT           42.280  102121042306  5.744000e+09     3.740480        3.19  \nABBV          60.050  181386347059  1.031000e+10     6.291571       26.14  \nACN          114.820   98765855553  5.643228e+09     2.604117       10.62  ",
      "text/html": "<div>\n<style scoped>\n    .dataframe tbody tr th:only-of-type {\n        vertical-align: middle;\n    }\n\n    .dataframe tbody tr th {\n        vertical-align: top;\n    }\n\n    .dataframe thead th {\n        text-align: right;\n    }\n</style>\n<table border=\"1\" class=\"dataframe\">\n  <thead>\n    <tr style=\"text-align: right;\">\n      <th></th>\n      <th>Price</th>\n      <th>Price/Earnings</th>\n      <th>Dividend Yield</th>\n      <th>Earnings/Share</th>\n      <th>52 Week Low</th>\n      <th>52 Week High</th>\n      <th>Market Cap</th>\n      <th>EBITDA</th>\n      <th>Price/Sales</th>\n      <th>Price/Book</th>\n    </tr>\n    <tr>\n      <th>Symbol</th>\n      <th></th>\n      <th></th>\n      <th></th>\n      <th></th>\n      <th></th>\n      <th></th>\n      <th></th>\n      <th></th>\n      <th></th>\n      <th></th>\n    </tr>\n  </thead>\n  <tbody>\n    <tr>\n      <th>MMM</th>\n      <td>222.89</td>\n      <td>24.31</td>\n      <td>2.332862</td>\n      <td>7.92</td>\n      <td>259.77</td>\n      <td>175.490</td>\n      <td>138721055226</td>\n      <td>9.048000e+09</td>\n      <td>4.390271</td>\n      <td>11.34</td>\n    </tr>\n    <tr>\n      <th>AOS</th>\n      <td>60.24</td>\n      <td>27.76</td>\n      <td>1.147959</td>\n      <td>1.70</td>\n      <td>68.39</td>\n      <td>48.925</td>\n      <td>10783419933</td>\n      <td>6.010000e+08</td>\n      <td>3.575483</td>\n      <td>6.35</td>\n    </tr>\n    <tr>\n      <th>ABT</th>\n      <td>56.27</td>\n      <td>22.51</td>\n      <td>1.908982</td>\n      <td>0.26</td>\n      <td>64.60</td>\n      <td>42.280</td>\n      <td>102121042306</td>\n      <td>5.744000e+09</td>\n      <td>3.740480</td>\n      <td>3.19</td>\n    </tr>\n    <tr>\n      <th>ABBV</th>\n      <td>108.48</td>\n      <td>19.41</td>\n      <td>2.499560</td>\n      <td>3.29</td>\n      <td>125.86</td>\n      <td>60.050</td>\n      <td>181386347059</td>\n      <td>1.031000e+10</td>\n      <td>6.291571</td>\n      <td>26.14</td>\n    </tr>\n    <tr>\n      <th>ACN</th>\n      <td>150.51</td>\n      <td>25.47</td>\n      <td>1.714470</td>\n      <td>5.44</td>\n      <td>162.60</td>\n      <td>114.820</td>\n      <td>98765855553</td>\n      <td>5.643228e+09</td>\n      <td>2.604117</td>\n      <td>10.62</td>\n    </tr>\n  </tbody>\n</table>\n</div>"
     },
     "execution_count": 12,
     "metadata": {},
     "output_type": "execute_result"
    }
   ],
   "source": [
    "financials.head()"
   ],
   "metadata": {
    "collapsed": false,
    "pycharm": {
     "name": "#%%\n"
    }
   }
  },
  {
   "cell_type": "markdown",
   "metadata": {},
   "source": [
    "**Task: What are the 10 largest companies according to market cap?**"
   ]
  },
  {
   "cell_type": "code",
   "execution_count": 48,
   "metadata": {},
   "outputs": [
    {
     "data": {
      "text/plain": "                        Name                  Sector    Market Cap\nSymbol                                                            \nGOOGL   Alphabet Inc Class A  Information Technology  733823966137\nGOOG    Alphabet Inc Class C  Information Technology  728535558140\nAMZN          Amazon.com Inc  Consumer Discretionary  685873374731\nAAPL              Apple Inc.  Information Technology  809508034020\nBAC     Bank of America Corp              Financials  321478200969\nXOM        Exxon Mobil Corp.                  Energy  326148660000\nFB            Facebook, Inc.  Information Technology  523423036576\nJNJ        Johnson & Johnson             Health Care  353062464971\nJPM     JPMorgan Chase & Co.              Financials  386613611000\nMSFT         Microsoft Corp.  Information Technology  689978437468",
      "text/html": "<div>\n<style scoped>\n    .dataframe tbody tr th:only-of-type {\n        vertical-align: middle;\n    }\n\n    .dataframe tbody tr th {\n        vertical-align: top;\n    }\n\n    .dataframe thead th {\n        text-align: right;\n    }\n</style>\n<table border=\"1\" class=\"dataframe\">\n  <thead>\n    <tr style=\"text-align: right;\">\n      <th></th>\n      <th>Name</th>\n      <th>Sector</th>\n      <th>Market Cap</th>\n    </tr>\n    <tr>\n      <th>Symbol</th>\n      <th></th>\n      <th></th>\n      <th></th>\n    </tr>\n  </thead>\n  <tbody>\n    <tr>\n      <th>GOOGL</th>\n      <td>Alphabet Inc Class A</td>\n      <td>Information Technology</td>\n      <td>733823966137</td>\n    </tr>\n    <tr>\n      <th>GOOG</th>\n      <td>Alphabet Inc Class C</td>\n      <td>Information Technology</td>\n      <td>728535558140</td>\n    </tr>\n    <tr>\n      <th>AMZN</th>\n      <td>Amazon.com Inc</td>\n      <td>Consumer Discretionary</td>\n      <td>685873374731</td>\n    </tr>\n    <tr>\n      <th>AAPL</th>\n      <td>Apple Inc.</td>\n      <td>Information Technology</td>\n      <td>809508034020</td>\n    </tr>\n    <tr>\n      <th>BAC</th>\n      <td>Bank of America Corp</td>\n      <td>Financials</td>\n      <td>321478200969</td>\n    </tr>\n    <tr>\n      <th>XOM</th>\n      <td>Exxon Mobil Corp.</td>\n      <td>Energy</td>\n      <td>326148660000</td>\n    </tr>\n    <tr>\n      <th>FB</th>\n      <td>Facebook, Inc.</td>\n      <td>Information Technology</td>\n      <td>523423036576</td>\n    </tr>\n    <tr>\n      <th>JNJ</th>\n      <td>Johnson &amp; Johnson</td>\n      <td>Health Care</td>\n      <td>353062464971</td>\n    </tr>\n    <tr>\n      <th>JPM</th>\n      <td>JPMorgan Chase &amp; Co.</td>\n      <td>Financials</td>\n      <td>386613611000</td>\n    </tr>\n    <tr>\n      <th>MSFT</th>\n      <td>Microsoft Corp.</td>\n      <td>Information Technology</td>\n      <td>689978437468</td>\n    </tr>\n  </tbody>\n</table>\n</div>"
     },
     "execution_count": 48,
     "metadata": {},
     "output_type": "execute_result"
    }
   ],
   "source": [
    "# CODE HERE\n",
    "constituents = constituents.set_index(\"Symbol\")\n",
    "constituents.join(financials.nlargest(10, \"Market Cap\")[\"Market Cap\"], how=\"inner\")"
   ]
  },
  {
   "cell_type": "markdown",
   "metadata": {},
   "source": [
    "**Task: Return all information about the 10 largest companies according by market cap**"
   ]
  },
  {
   "cell_type": "code",
   "execution_count": 17,
   "metadata": {},
   "outputs": [
    {
     "data": {
      "text/plain": "          Price  Price/Earnings  Dividend Yield  Earnings/Share  52 Week Low  \\\nSymbol                                                                         \nAAPL     155.15           16.86        1.579541            9.20     180.1000   \nGOOGL   1007.71           31.48        0.000000           22.27    1198.0000   \nGOOG    1001.52           40.29        0.000000           22.27    1186.8900   \nMSFT      85.01           25.76        1.874791            2.97      96.0700   \nAMZN    1350.50          296.16        0.000000            6.16    1498.0000   \nFB       171.58           27.90        0.000000            5.39     195.3200   \nJPM      107.88           15.43        1.984584            6.30     117.3529   \nJNJ      126.36           17.31        2.556688            0.39     148.3200   \nXOM       76.07           21.37        4.003120            1.88      89.3000   \nBAC       29.74           16.34        1.536000            1.55      32.6700   \n\n        52 Week High    Market Cap        EBITDA  Price/Sales  Price/Book  \nSymbol                                                                     \nAAPL        131.1200  809508034020  7.938600e+10     3.458609        5.66  \nGOOGL       824.3000  733823966137  3.421700e+10     6.801692        4.70  \nGOOG        803.1903  728535558140  3.271400e+10     6.772653        4.67  \nMSFT         63.2200  689978437468  4.107900e+10     7.113097        9.49  \nAMZN        812.5000  685873374731  1.613200e+10     3.927053       24.28  \nFB          132.4400  523423036576  2.362400e+10    13.241967        7.08  \nJPM          81.6350  386613611000  0.000000e+00     3.371499        1.60  \nJNJ         113.1500  353062464971  2.243000e+10     4.632622        4.74  \nXOM          76.0500  326148660000  3.905200e+10     1.770194        1.85  \nBAC          22.0700  321478200969  0.000000e+00     3.201187        1.24  ",
      "text/html": "<div>\n<style scoped>\n    .dataframe tbody tr th:only-of-type {\n        vertical-align: middle;\n    }\n\n    .dataframe tbody tr th {\n        vertical-align: top;\n    }\n\n    .dataframe thead th {\n        text-align: right;\n    }\n</style>\n<table border=\"1\" class=\"dataframe\">\n  <thead>\n    <tr style=\"text-align: right;\">\n      <th></th>\n      <th>Price</th>\n      <th>Price/Earnings</th>\n      <th>Dividend Yield</th>\n      <th>Earnings/Share</th>\n      <th>52 Week Low</th>\n      <th>52 Week High</th>\n      <th>Market Cap</th>\n      <th>EBITDA</th>\n      <th>Price/Sales</th>\n      <th>Price/Book</th>\n    </tr>\n    <tr>\n      <th>Symbol</th>\n      <th></th>\n      <th></th>\n      <th></th>\n      <th></th>\n      <th></th>\n      <th></th>\n      <th></th>\n      <th></th>\n      <th></th>\n      <th></th>\n    </tr>\n  </thead>\n  <tbody>\n    <tr>\n      <th>AAPL</th>\n      <td>155.15</td>\n      <td>16.86</td>\n      <td>1.579541</td>\n      <td>9.20</td>\n      <td>180.1000</td>\n      <td>131.1200</td>\n      <td>809508034020</td>\n      <td>7.938600e+10</td>\n      <td>3.458609</td>\n      <td>5.66</td>\n    </tr>\n    <tr>\n      <th>GOOGL</th>\n      <td>1007.71</td>\n      <td>31.48</td>\n      <td>0.000000</td>\n      <td>22.27</td>\n      <td>1198.0000</td>\n      <td>824.3000</td>\n      <td>733823966137</td>\n      <td>3.421700e+10</td>\n      <td>6.801692</td>\n      <td>4.70</td>\n    </tr>\n    <tr>\n      <th>GOOG</th>\n      <td>1001.52</td>\n      <td>40.29</td>\n      <td>0.000000</td>\n      <td>22.27</td>\n      <td>1186.8900</td>\n      <td>803.1903</td>\n      <td>728535558140</td>\n      <td>3.271400e+10</td>\n      <td>6.772653</td>\n      <td>4.67</td>\n    </tr>\n    <tr>\n      <th>MSFT</th>\n      <td>85.01</td>\n      <td>25.76</td>\n      <td>1.874791</td>\n      <td>2.97</td>\n      <td>96.0700</td>\n      <td>63.2200</td>\n      <td>689978437468</td>\n      <td>4.107900e+10</td>\n      <td>7.113097</td>\n      <td>9.49</td>\n    </tr>\n    <tr>\n      <th>AMZN</th>\n      <td>1350.50</td>\n      <td>296.16</td>\n      <td>0.000000</td>\n      <td>6.16</td>\n      <td>1498.0000</td>\n      <td>812.5000</td>\n      <td>685873374731</td>\n      <td>1.613200e+10</td>\n      <td>3.927053</td>\n      <td>24.28</td>\n    </tr>\n    <tr>\n      <th>FB</th>\n      <td>171.58</td>\n      <td>27.90</td>\n      <td>0.000000</td>\n      <td>5.39</td>\n      <td>195.3200</td>\n      <td>132.4400</td>\n      <td>523423036576</td>\n      <td>2.362400e+10</td>\n      <td>13.241967</td>\n      <td>7.08</td>\n    </tr>\n    <tr>\n      <th>JPM</th>\n      <td>107.88</td>\n      <td>15.43</td>\n      <td>1.984584</td>\n      <td>6.30</td>\n      <td>117.3529</td>\n      <td>81.6350</td>\n      <td>386613611000</td>\n      <td>0.000000e+00</td>\n      <td>3.371499</td>\n      <td>1.60</td>\n    </tr>\n    <tr>\n      <th>JNJ</th>\n      <td>126.36</td>\n      <td>17.31</td>\n      <td>2.556688</td>\n      <td>0.39</td>\n      <td>148.3200</td>\n      <td>113.1500</td>\n      <td>353062464971</td>\n      <td>2.243000e+10</td>\n      <td>4.632622</td>\n      <td>4.74</td>\n    </tr>\n    <tr>\n      <th>XOM</th>\n      <td>76.07</td>\n      <td>21.37</td>\n      <td>4.003120</td>\n      <td>1.88</td>\n      <td>89.3000</td>\n      <td>76.0500</td>\n      <td>326148660000</td>\n      <td>3.905200e+10</td>\n      <td>1.770194</td>\n      <td>1.85</td>\n    </tr>\n    <tr>\n      <th>BAC</th>\n      <td>29.74</td>\n      <td>16.34</td>\n      <td>1.536000</td>\n      <td>1.55</td>\n      <td>32.6700</td>\n      <td>22.0700</td>\n      <td>321478200969</td>\n      <td>0.000000e+00</td>\n      <td>3.201187</td>\n      <td>1.24</td>\n    </tr>\n  </tbody>\n</table>\n</div>"
     },
     "execution_count": 17,
     "metadata": {},
     "output_type": "execute_result"
    }
   ],
   "source": [
    "# CODE HERE\n",
    "financials.nlargest(10, \"Market Cap\")"
   ]
  },
  {
   "cell_type": "markdown",
   "metadata": {},
   "source": [
    "Note: The difference between GOOG and GOOGL is, that GOOG shares have no voting rights"
   ]
  },
  {
   "cell_type": "markdown",
   "metadata": {},
   "source": [
    "**Task: Drop GOOG**"
   ]
  },
  {
   "cell_type": "code",
   "execution_count": 18,
   "metadata": {},
   "outputs": [
    {
     "data": {
      "text/plain": "          Price  Price/Earnings  Dividend Yield  Earnings/Share  52 Week Low  \\\nSymbol                                                                         \nAAPL     155.15           16.86        1.579541            9.20     180.1000   \nGOOGL   1007.71           31.48        0.000000           22.27    1198.0000   \nMSFT      85.01           25.76        1.874791            2.97      96.0700   \nAMZN    1350.50          296.16        0.000000            6.16    1498.0000   \nFB       171.58           27.90        0.000000            5.39     195.3200   \nJPM      107.88           15.43        1.984584            6.30     117.3529   \nJNJ      126.36           17.31        2.556688            0.39     148.3200   \nXOM       76.07           21.37        4.003120            1.88      89.3000   \nBAC       29.74           16.34        1.536000            1.55      32.6700   \n\n        52 Week High    Market Cap        EBITDA  Price/Sales  Price/Book  \nSymbol                                                                     \nAAPL         131.120  809508034020  7.938600e+10     3.458609        5.66  \nGOOGL        824.300  733823966137  3.421700e+10     6.801692        4.70  \nMSFT          63.220  689978437468  4.107900e+10     7.113097        9.49  \nAMZN         812.500  685873374731  1.613200e+10     3.927053       24.28  \nFB           132.440  523423036576  2.362400e+10    13.241967        7.08  \nJPM           81.635  386613611000  0.000000e+00     3.371499        1.60  \nJNJ          113.150  353062464971  2.243000e+10     4.632622        4.74  \nXOM           76.050  326148660000  3.905200e+10     1.770194        1.85  \nBAC           22.070  321478200969  0.000000e+00     3.201187        1.24  ",
      "text/html": "<div>\n<style scoped>\n    .dataframe tbody tr th:only-of-type {\n        vertical-align: middle;\n    }\n\n    .dataframe tbody tr th {\n        vertical-align: top;\n    }\n\n    .dataframe thead th {\n        text-align: right;\n    }\n</style>\n<table border=\"1\" class=\"dataframe\">\n  <thead>\n    <tr style=\"text-align: right;\">\n      <th></th>\n      <th>Price</th>\n      <th>Price/Earnings</th>\n      <th>Dividend Yield</th>\n      <th>Earnings/Share</th>\n      <th>52 Week Low</th>\n      <th>52 Week High</th>\n      <th>Market Cap</th>\n      <th>EBITDA</th>\n      <th>Price/Sales</th>\n      <th>Price/Book</th>\n    </tr>\n    <tr>\n      <th>Symbol</th>\n      <th></th>\n      <th></th>\n      <th></th>\n      <th></th>\n      <th></th>\n      <th></th>\n      <th></th>\n      <th></th>\n      <th></th>\n      <th></th>\n    </tr>\n  </thead>\n  <tbody>\n    <tr>\n      <th>AAPL</th>\n      <td>155.15</td>\n      <td>16.86</td>\n      <td>1.579541</td>\n      <td>9.20</td>\n      <td>180.1000</td>\n      <td>131.120</td>\n      <td>809508034020</td>\n      <td>7.938600e+10</td>\n      <td>3.458609</td>\n      <td>5.66</td>\n    </tr>\n    <tr>\n      <th>GOOGL</th>\n      <td>1007.71</td>\n      <td>31.48</td>\n      <td>0.000000</td>\n      <td>22.27</td>\n      <td>1198.0000</td>\n      <td>824.300</td>\n      <td>733823966137</td>\n      <td>3.421700e+10</td>\n      <td>6.801692</td>\n      <td>4.70</td>\n    </tr>\n    <tr>\n      <th>MSFT</th>\n      <td>85.01</td>\n      <td>25.76</td>\n      <td>1.874791</td>\n      <td>2.97</td>\n      <td>96.0700</td>\n      <td>63.220</td>\n      <td>689978437468</td>\n      <td>4.107900e+10</td>\n      <td>7.113097</td>\n      <td>9.49</td>\n    </tr>\n    <tr>\n      <th>AMZN</th>\n      <td>1350.50</td>\n      <td>296.16</td>\n      <td>0.000000</td>\n      <td>6.16</td>\n      <td>1498.0000</td>\n      <td>812.500</td>\n      <td>685873374731</td>\n      <td>1.613200e+10</td>\n      <td>3.927053</td>\n      <td>24.28</td>\n    </tr>\n    <tr>\n      <th>FB</th>\n      <td>171.58</td>\n      <td>27.90</td>\n      <td>0.000000</td>\n      <td>5.39</td>\n      <td>195.3200</td>\n      <td>132.440</td>\n      <td>523423036576</td>\n      <td>2.362400e+10</td>\n      <td>13.241967</td>\n      <td>7.08</td>\n    </tr>\n    <tr>\n      <th>JPM</th>\n      <td>107.88</td>\n      <td>15.43</td>\n      <td>1.984584</td>\n      <td>6.30</td>\n      <td>117.3529</td>\n      <td>81.635</td>\n      <td>386613611000</td>\n      <td>0.000000e+00</td>\n      <td>3.371499</td>\n      <td>1.60</td>\n    </tr>\n    <tr>\n      <th>JNJ</th>\n      <td>126.36</td>\n      <td>17.31</td>\n      <td>2.556688</td>\n      <td>0.39</td>\n      <td>148.3200</td>\n      <td>113.150</td>\n      <td>353062464971</td>\n      <td>2.243000e+10</td>\n      <td>4.632622</td>\n      <td>4.74</td>\n    </tr>\n    <tr>\n      <th>XOM</th>\n      <td>76.07</td>\n      <td>21.37</td>\n      <td>4.003120</td>\n      <td>1.88</td>\n      <td>89.3000</td>\n      <td>76.050</td>\n      <td>326148660000</td>\n      <td>3.905200e+10</td>\n      <td>1.770194</td>\n      <td>1.85</td>\n    </tr>\n    <tr>\n      <th>BAC</th>\n      <td>29.74</td>\n      <td>16.34</td>\n      <td>1.536000</td>\n      <td>1.55</td>\n      <td>32.6700</td>\n      <td>22.070</td>\n      <td>321478200969</td>\n      <td>0.000000e+00</td>\n      <td>3.201187</td>\n      <td>1.24</td>\n    </tr>\n  </tbody>\n</table>\n</div>"
     },
     "execution_count": 18,
     "metadata": {},
     "output_type": "execute_result"
    }
   ],
   "source": [
    "# CODE HERE\n",
    "financials.nlargest(10, \"Market Cap\").drop(\"GOOG\", axis=0)"
   ]
  },
  {
   "cell_type": "markdown",
   "metadata": {},
   "source": [
    "**Task: How many companies have a dividend yield > 4% ?**"
   ]
  },
  {
   "cell_type": "code",
   "execution_count": 21,
   "metadata": {},
   "outputs": [
    {
     "data": {
      "text/plain": "37"
     },
     "execution_count": 21,
     "metadata": {},
     "output_type": "execute_result"
    }
   ],
   "source": [
    "# CODE HERE\n",
    "financials[financials[\"Dividend Yield\"] > 4].shape[0]"
   ]
  },
  {
   "cell_type": "markdown",
   "metadata": {},
   "source": [
    "**Task: What is the mean Earnings per Share for all companies with a market cap > 1e+11**"
   ]
  },
  {
   "cell_type": "code",
   "execution_count": 24,
   "metadata": {},
   "outputs": [
    {
     "data": {
      "text/plain": "5.083461538461538"
     },
     "execution_count": 24,
     "metadata": {},
     "output_type": "execute_result"
    }
   ],
   "source": [
    "# CODE HERE\n",
    "financials.loc[financials[\"Market Cap\"] > 1e11, \"Earnings/Share\"].mean()"
   ]
  },
  {
   "cell_type": "markdown",
   "metadata": {},
   "source": [
    "**Task: How many companies have a positive earnings per shares ratio?**"
   ]
  },
  {
   "cell_type": "code",
   "execution_count": 28,
   "metadata": {},
   "outputs": [
    {
     "data": {
      "text/plain": "453"
     },
     "execution_count": 28,
     "metadata": {},
     "output_type": "execute_result"
    }
   ],
   "source": [
    "# CODE HERE\n",
    "financials[financials[\"Earnings/Share\"] > 0].shape[0]"
   ]
  },
  {
   "cell_type": "markdown",
   "metadata": {},
   "source": [
    "**Task: Which company pays the highest dividend yield? What was its 52 week high?**"
   ]
  },
  {
   "cell_type": "code",
   "execution_count": 57,
   "metadata": {},
   "outputs": [
    {
     "data": {
      "text/plain": "Price                    1.620000e+01\nPrice/Earnings           8.350000e+00\nDividend Yield           1.266120e+01\nEarnings/Share           1.160000e+00\n52 Week Low              2.761000e+01\n52 Week High             1.316100e+01\nMarket Cap               1.823720e+10\nEBITDA                   5.577000e+09\nPrice/Sales              1.479598e+00\nPrice/Book               1.390000e+00\nMarket Cap in Billion    1.823720e+01\nName: CTL, dtype: float64"
     },
     "execution_count": 57,
     "metadata": {},
     "output_type": "execute_result"
    }
   ],
   "source": [
    "# CODE HERE\n",
    "financials.loc[financials[\"Dividend Yield\"].idxmax()]"
   ]
  },
  {
   "cell_type": "markdown",
   "metadata": {},
   "source": [
    "**Task: Return the company with the largest spread between 52 weeks high and low**"
   ]
  },
  {
   "cell_type": "code",
   "execution_count": 35,
   "metadata": {},
   "outputs": [
    {
     "data": {
      "text/plain": "         Price  Price/Earnings  Dividend Yield  Earnings/Share  52 Week Low  \\\nSymbol                                                                        \nMMM     222.89           24.31        2.332862            7.92       259.77   \nAOS      60.24           27.76        1.147959            1.70        68.39   \nABT      56.27           22.51        1.908982            0.26        64.60   \nABBV    108.48           19.41        2.499560            3.29       125.86   \nACN     150.51           25.47        1.714470            5.44       162.60   \n\n        52 Week High    Market Cap        EBITDA  Price/Sales  Price/Book  \nSymbol                                                                     \nMMM          175.490  138721055226  9.048000e+09     4.390271       11.34  \nAOS           48.925   10783419933  6.010000e+08     3.575483        6.35  \nABT           42.280  102121042306  5.744000e+09     3.740480        3.19  \nABBV          60.050  181386347059  1.031000e+10     6.291571       26.14  \nACN          114.820   98765855553  5.643228e+09     2.604117       10.62  ",
      "text/html": "<div>\n<style scoped>\n    .dataframe tbody tr th:only-of-type {\n        vertical-align: middle;\n    }\n\n    .dataframe tbody tr th {\n        vertical-align: top;\n    }\n\n    .dataframe thead th {\n        text-align: right;\n    }\n</style>\n<table border=\"1\" class=\"dataframe\">\n  <thead>\n    <tr style=\"text-align: right;\">\n      <th></th>\n      <th>Price</th>\n      <th>Price/Earnings</th>\n      <th>Dividend Yield</th>\n      <th>Earnings/Share</th>\n      <th>52 Week Low</th>\n      <th>52 Week High</th>\n      <th>Market Cap</th>\n      <th>EBITDA</th>\n      <th>Price/Sales</th>\n      <th>Price/Book</th>\n    </tr>\n    <tr>\n      <th>Symbol</th>\n      <th></th>\n      <th></th>\n      <th></th>\n      <th></th>\n      <th></th>\n      <th></th>\n      <th></th>\n      <th></th>\n      <th></th>\n      <th></th>\n    </tr>\n  </thead>\n  <tbody>\n    <tr>\n      <th>MMM</th>\n      <td>222.89</td>\n      <td>24.31</td>\n      <td>2.332862</td>\n      <td>7.92</td>\n      <td>259.77</td>\n      <td>175.490</td>\n      <td>138721055226</td>\n      <td>9.048000e+09</td>\n      <td>4.390271</td>\n      <td>11.34</td>\n    </tr>\n    <tr>\n      <th>AOS</th>\n      <td>60.24</td>\n      <td>27.76</td>\n      <td>1.147959</td>\n      <td>1.70</td>\n      <td>68.39</td>\n      <td>48.925</td>\n      <td>10783419933</td>\n      <td>6.010000e+08</td>\n      <td>3.575483</td>\n      <td>6.35</td>\n    </tr>\n    <tr>\n      <th>ABT</th>\n      <td>56.27</td>\n      <td>22.51</td>\n      <td>1.908982</td>\n      <td>0.26</td>\n      <td>64.60</td>\n      <td>42.280</td>\n      <td>102121042306</td>\n      <td>5.744000e+09</td>\n      <td>3.740480</td>\n      <td>3.19</td>\n    </tr>\n    <tr>\n      <th>ABBV</th>\n      <td>108.48</td>\n      <td>19.41</td>\n      <td>2.499560</td>\n      <td>3.29</td>\n      <td>125.86</td>\n      <td>60.050</td>\n      <td>181386347059</td>\n      <td>1.031000e+10</td>\n      <td>6.291571</td>\n      <td>26.14</td>\n    </tr>\n    <tr>\n      <th>ACN</th>\n      <td>150.51</td>\n      <td>25.47</td>\n      <td>1.714470</td>\n      <td>5.44</td>\n      <td>162.60</td>\n      <td>114.820</td>\n      <td>98765855553</td>\n      <td>5.643228e+09</td>\n      <td>2.604117</td>\n      <td>10.62</td>\n    </tr>\n  </tbody>\n</table>\n</div>"
     },
     "execution_count": 35,
     "metadata": {},
     "output_type": "execute_result"
    }
   ],
   "source": [
    "financials.head()"
   ]
  },
  {
   "cell_type": "code",
   "execution_count": 58,
   "outputs": [
    {
     "data": {
      "text/plain": "'AMZN'"
     },
     "execution_count": 58,
     "metadata": {},
     "output_type": "execute_result"
    }
   ],
   "source": [
    "# CODE HERE\n",
    "abs(financials[\"52 Week High\"] - financials[\"52 Week Low\"]).idxmax()"
   ],
   "metadata": {
    "collapsed": false,
    "pycharm": {
     "name": "#%%\n"
    }
   }
  },
  {
   "cell_type": "markdown",
   "metadata": {},
   "source": [
    "**Task: Return all companies with a price between \\\\$ 50 and \\\\$ 100**"
   ]
  },
  {
   "cell_type": "code",
   "execution_count": 37,
   "metadata": {},
   "outputs": [
    {
     "data": {
      "text/plain": "        Price  Price/Earnings  Dividend Yield  Earnings/Share  52 Week Low  \\\nSymbol                                                                       \nAOS     60.24           27.76        1.147959            1.70       68.390   \nABT     56.27           22.51        1.908982            0.26       64.600   \nATVI    65.83           31.80        0.431903            1.28       74.945   \nAFL     83.25           12.24        2.429907           11.01       91.730   \nA       65.05           27.45        0.875698            2.10       75.000   \n...       ...             ...             ...             ...          ...   \nXLNX    62.82           27.19        2.090488            2.32       77.260   \nXYL     70.24           30.94        1.170079            1.83       76.810   \nYUM     76.30           27.25        1.797080            4.07       86.930   \nZION    50.71           17.73        1.480933            2.60       55.610   \nZTS     71.51           32.80        0.682372            1.65       80.130   \n\n        52 Week High    Market Cap        EBITDA  Price/Sales  Price/Book  \nSymbol                                                                     \nAOS           48.925   10783419933  6.010000e+08     3.575483        6.35  \nABT           42.280  102121042306  5.744000e+09     3.740480        3.19  \nATVI          38.930   52518668144  2.704000e+09    10.595120        5.16  \nAFL           68.800   33422948000  0.000000e+00     1.542934        1.53  \nA             49.230   21984606918  1.094000e+09     6.493563        4.56  \n...              ...           ...           ...          ...         ...  \nXLNX          54.990   17064975551  8.454680e+08     7.101206        7.22  \nXYL           46.860   12915021000  7.220000e+08     2.726209        5.31  \nYUM           62.850   27003303098  2.289000e+09     6.313636      212.08  \nZION          38.430   10670678640  0.000000e+00     3.794579        1.42  \nZTS           52.000   35991109776  1.734000e+09     9.280896       18.09  \n\n[190 rows x 10 columns]",
      "text/html": "<div>\n<style scoped>\n    .dataframe tbody tr th:only-of-type {\n        vertical-align: middle;\n    }\n\n    .dataframe tbody tr th {\n        vertical-align: top;\n    }\n\n    .dataframe thead th {\n        text-align: right;\n    }\n</style>\n<table border=\"1\" class=\"dataframe\">\n  <thead>\n    <tr style=\"text-align: right;\">\n      <th></th>\n      <th>Price</th>\n      <th>Price/Earnings</th>\n      <th>Dividend Yield</th>\n      <th>Earnings/Share</th>\n      <th>52 Week Low</th>\n      <th>52 Week High</th>\n      <th>Market Cap</th>\n      <th>EBITDA</th>\n      <th>Price/Sales</th>\n      <th>Price/Book</th>\n    </tr>\n    <tr>\n      <th>Symbol</th>\n      <th></th>\n      <th></th>\n      <th></th>\n      <th></th>\n      <th></th>\n      <th></th>\n      <th></th>\n      <th></th>\n      <th></th>\n      <th></th>\n    </tr>\n  </thead>\n  <tbody>\n    <tr>\n      <th>AOS</th>\n      <td>60.24</td>\n      <td>27.76</td>\n      <td>1.147959</td>\n      <td>1.70</td>\n      <td>68.390</td>\n      <td>48.925</td>\n      <td>10783419933</td>\n      <td>6.010000e+08</td>\n      <td>3.575483</td>\n      <td>6.35</td>\n    </tr>\n    <tr>\n      <th>ABT</th>\n      <td>56.27</td>\n      <td>22.51</td>\n      <td>1.908982</td>\n      <td>0.26</td>\n      <td>64.600</td>\n      <td>42.280</td>\n      <td>102121042306</td>\n      <td>5.744000e+09</td>\n      <td>3.740480</td>\n      <td>3.19</td>\n    </tr>\n    <tr>\n      <th>ATVI</th>\n      <td>65.83</td>\n      <td>31.80</td>\n      <td>0.431903</td>\n      <td>1.28</td>\n      <td>74.945</td>\n      <td>38.930</td>\n      <td>52518668144</td>\n      <td>2.704000e+09</td>\n      <td>10.595120</td>\n      <td>5.16</td>\n    </tr>\n    <tr>\n      <th>AFL</th>\n      <td>83.25</td>\n      <td>12.24</td>\n      <td>2.429907</td>\n      <td>11.01</td>\n      <td>91.730</td>\n      <td>68.800</td>\n      <td>33422948000</td>\n      <td>0.000000e+00</td>\n      <td>1.542934</td>\n      <td>1.53</td>\n    </tr>\n    <tr>\n      <th>A</th>\n      <td>65.05</td>\n      <td>27.45</td>\n      <td>0.875698</td>\n      <td>2.10</td>\n      <td>75.000</td>\n      <td>49.230</td>\n      <td>21984606918</td>\n      <td>1.094000e+09</td>\n      <td>6.493563</td>\n      <td>4.56</td>\n    </tr>\n    <tr>\n      <th>...</th>\n      <td>...</td>\n      <td>...</td>\n      <td>...</td>\n      <td>...</td>\n      <td>...</td>\n      <td>...</td>\n      <td>...</td>\n      <td>...</td>\n      <td>...</td>\n      <td>...</td>\n    </tr>\n    <tr>\n      <th>XLNX</th>\n      <td>62.82</td>\n      <td>27.19</td>\n      <td>2.090488</td>\n      <td>2.32</td>\n      <td>77.260</td>\n      <td>54.990</td>\n      <td>17064975551</td>\n      <td>8.454680e+08</td>\n      <td>7.101206</td>\n      <td>7.22</td>\n    </tr>\n    <tr>\n      <th>XYL</th>\n      <td>70.24</td>\n      <td>30.94</td>\n      <td>1.170079</td>\n      <td>1.83</td>\n      <td>76.810</td>\n      <td>46.860</td>\n      <td>12915021000</td>\n      <td>7.220000e+08</td>\n      <td>2.726209</td>\n      <td>5.31</td>\n    </tr>\n    <tr>\n      <th>YUM</th>\n      <td>76.30</td>\n      <td>27.25</td>\n      <td>1.797080</td>\n      <td>4.07</td>\n      <td>86.930</td>\n      <td>62.850</td>\n      <td>27003303098</td>\n      <td>2.289000e+09</td>\n      <td>6.313636</td>\n      <td>212.08</td>\n    </tr>\n    <tr>\n      <th>ZION</th>\n      <td>50.71</td>\n      <td>17.73</td>\n      <td>1.480933</td>\n      <td>2.60</td>\n      <td>55.610</td>\n      <td>38.430</td>\n      <td>10670678640</td>\n      <td>0.000000e+00</td>\n      <td>3.794579</td>\n      <td>1.42</td>\n    </tr>\n    <tr>\n      <th>ZTS</th>\n      <td>71.51</td>\n      <td>32.80</td>\n      <td>0.682372</td>\n      <td>1.65</td>\n      <td>80.130</td>\n      <td>52.000</td>\n      <td>35991109776</td>\n      <td>1.734000e+09</td>\n      <td>9.280896</td>\n      <td>18.09</td>\n    </tr>\n  </tbody>\n</table>\n<p>190 rows × 10 columns</p>\n</div>"
     },
     "execution_count": 37,
     "metadata": {},
     "output_type": "execute_result"
    }
   ],
   "source": [
    "# CODE HERE\n",
    "financials[financials[\"Price\"].between(50, 100)]"
   ]
  },
  {
   "cell_type": "markdown",
   "metadata": {},
   "source": [
    "**Task: The market cap is really hard to read. Create a new column called \"Market Cap in Billion\" which shows the market cap in billions**"
   ]
  },
  {
   "cell_type": "code",
   "execution_count": 39,
   "metadata": {},
   "outputs": [
    {
     "data": {
      "text/plain": "         Price  Price/Earnings  Dividend Yield  Earnings/Share  52 Week Low  \\\nSymbol                                                                        \nMMM     222.89           24.31        2.332862            7.92       259.77   \nAOS      60.24           27.76        1.147959            1.70        68.39   \nABT      56.27           22.51        1.908982            0.26        64.60   \nABBV    108.48           19.41        2.499560            3.29       125.86   \nACN     150.51           25.47        1.714470            5.44       162.60   \n\n        52 Week High    Market Cap        EBITDA  Price/Sales  Price/Book  \\\nSymbol                                                                      \nMMM          175.490  138721055226  9.048000e+09     4.390271       11.34   \nAOS           48.925   10783419933  6.010000e+08     3.575483        6.35   \nABT           42.280  102121042306  5.744000e+09     3.740480        3.19   \nABBV          60.050  181386347059  1.031000e+10     6.291571       26.14   \nACN          114.820   98765855553  5.643228e+09     2.604117       10.62   \n\n        Market Cap in Billion  \nSymbol                         \nMMM                138.721055  \nAOS                 10.783420  \nABT                102.121042  \nABBV               181.386347  \nACN                 98.765856  ",
      "text/html": "<div>\n<style scoped>\n    .dataframe tbody tr th:only-of-type {\n        vertical-align: middle;\n    }\n\n    .dataframe tbody tr th {\n        vertical-align: top;\n    }\n\n    .dataframe thead th {\n        text-align: right;\n    }\n</style>\n<table border=\"1\" class=\"dataframe\">\n  <thead>\n    <tr style=\"text-align: right;\">\n      <th></th>\n      <th>Price</th>\n      <th>Price/Earnings</th>\n      <th>Dividend Yield</th>\n      <th>Earnings/Share</th>\n      <th>52 Week Low</th>\n      <th>52 Week High</th>\n      <th>Market Cap</th>\n      <th>EBITDA</th>\n      <th>Price/Sales</th>\n      <th>Price/Book</th>\n      <th>Market Cap in Billion</th>\n    </tr>\n    <tr>\n      <th>Symbol</th>\n      <th></th>\n      <th></th>\n      <th></th>\n      <th></th>\n      <th></th>\n      <th></th>\n      <th></th>\n      <th></th>\n      <th></th>\n      <th></th>\n      <th></th>\n    </tr>\n  </thead>\n  <tbody>\n    <tr>\n      <th>MMM</th>\n      <td>222.89</td>\n      <td>24.31</td>\n      <td>2.332862</td>\n      <td>7.92</td>\n      <td>259.77</td>\n      <td>175.490</td>\n      <td>138721055226</td>\n      <td>9.048000e+09</td>\n      <td>4.390271</td>\n      <td>11.34</td>\n      <td>138.721055</td>\n    </tr>\n    <tr>\n      <th>AOS</th>\n      <td>60.24</td>\n      <td>27.76</td>\n      <td>1.147959</td>\n      <td>1.70</td>\n      <td>68.39</td>\n      <td>48.925</td>\n      <td>10783419933</td>\n      <td>6.010000e+08</td>\n      <td>3.575483</td>\n      <td>6.35</td>\n      <td>10.783420</td>\n    </tr>\n    <tr>\n      <th>ABT</th>\n      <td>56.27</td>\n      <td>22.51</td>\n      <td>1.908982</td>\n      <td>0.26</td>\n      <td>64.60</td>\n      <td>42.280</td>\n      <td>102121042306</td>\n      <td>5.744000e+09</td>\n      <td>3.740480</td>\n      <td>3.19</td>\n      <td>102.121042</td>\n    </tr>\n    <tr>\n      <th>ABBV</th>\n      <td>108.48</td>\n      <td>19.41</td>\n      <td>2.499560</td>\n      <td>3.29</td>\n      <td>125.86</td>\n      <td>60.050</td>\n      <td>181386347059</td>\n      <td>1.031000e+10</td>\n      <td>6.291571</td>\n      <td>26.14</td>\n      <td>181.386347</td>\n    </tr>\n    <tr>\n      <th>ACN</th>\n      <td>150.51</td>\n      <td>25.47</td>\n      <td>1.714470</td>\n      <td>5.44</td>\n      <td>162.60</td>\n      <td>114.820</td>\n      <td>98765855553</td>\n      <td>5.643228e+09</td>\n      <td>2.604117</td>\n      <td>10.62</td>\n      <td>98.765856</td>\n    </tr>\n  </tbody>\n</table>\n</div>"
     },
     "execution_count": 39,
     "metadata": {},
     "output_type": "execute_result"
    }
   ],
   "source": [
    "# CODE HERE\n",
    "financials[\"Market Cap in Billion\"] = financials[\"Market Cap\"] / 1e9\n",
    "financials.head()"
   ]
  },
  {
   "cell_type": "markdown",
   "metadata": {},
   "source": [
    "**Task: Is there a correlation between the market cap and the Dividend Yield?**"
   ]
  },
  {
   "cell_type": "code",
   "execution_count": 42,
   "metadata": {},
   "outputs": [
    {
     "data": {
      "text/plain": "                Market Cap  Dividend Yield\nMarket Cap        1.000000       -0.021794\nDividend Yield   -0.021794        1.000000",
      "text/html": "<div>\n<style scoped>\n    .dataframe tbody tr th:only-of-type {\n        vertical-align: middle;\n    }\n\n    .dataframe tbody tr th {\n        vertical-align: top;\n    }\n\n    .dataframe thead th {\n        text-align: right;\n    }\n</style>\n<table border=\"1\" class=\"dataframe\">\n  <thead>\n    <tr style=\"text-align: right;\">\n      <th></th>\n      <th>Market Cap</th>\n      <th>Dividend Yield</th>\n    </tr>\n  </thead>\n  <tbody>\n    <tr>\n      <th>Market Cap</th>\n      <td>1.000000</td>\n      <td>-0.021794</td>\n    </tr>\n    <tr>\n      <th>Dividend Yield</th>\n      <td>-0.021794</td>\n      <td>1.000000</td>\n    </tr>\n  </tbody>\n</table>\n</div>"
     },
     "execution_count": 42,
     "metadata": {},
     "output_type": "execute_result"
    }
   ],
   "source": [
    "# CODE HERE\n",
    "financials[[\"Market Cap\", \"Dividend Yield\"]].corr()"
   ]
  },
  {
   "cell_type": "markdown",
   "metadata": {},
   "source": [
    "**Task: Merge the financials dataframe with the constituents dataframe**"
   ]
  },
  {
   "cell_type": "code",
   "execution_count": 49,
   "metadata": {},
   "outputs": [
    {
     "data": {
      "text/plain": "                          Name                  Sector   Price  \\\nSymbol                                                           \nMMM                 3M Company             Industrials  222.89   \nAOS            A.O. Smith Corp             Industrials   60.24   \nABT        Abbott Laboratories             Health Care   56.27   \nABBV               AbbVie Inc.             Health Care  108.48   \nACN              Accenture plc  Information Technology  150.51   \n...                        ...                     ...     ...   \nXYL                 Xylem Inc.             Industrials   70.24   \nYUM            Yum! Brands Inc  Consumer Discretionary   76.30   \nZBH     Zimmer Biomet Holdings             Health Care  115.53   \nZION             Zions Bancorp              Financials   50.71   \nZTS                     Zoetis             Health Care   71.51   \n\n        Price/Earnings  Dividend Yield  Earnings/Share  52 Week Low  \\\nSymbol                                                                \nMMM              24.31        2.332862            7.92       259.77   \nAOS              27.76        1.147959            1.70        68.39   \nABT              22.51        1.908982            0.26        64.60   \nABBV             19.41        2.499560            3.29       125.86   \nACN              25.47        1.714470            5.44       162.60   \n...                ...             ...             ...          ...   \nXYL              30.94        1.170079            1.83        76.81   \nYUM              27.25        1.797080            4.07        86.93   \nZBH              14.32        0.794834            9.01       133.49   \nZION             17.73        1.480933            2.60        55.61   \nZTS              32.80        0.682372            1.65        80.13   \n\n        52 Week High    Market Cap        EBITDA  Price/Sales  Price/Book  \\\nSymbol                                                                      \nMMM          175.490  138721055226  9.048000e+09     4.390271       11.34   \nAOS           48.925   10783419933  6.010000e+08     3.575483        6.35   \nABT           42.280  102121042306  5.744000e+09     3.740480        3.19   \nABBV          60.050  181386347059  1.031000e+10     6.291571       26.14   \nACN          114.820   98765855553  5.643228e+09     2.604117       10.62   \n...              ...           ...           ...          ...         ...   \nXYL           46.860   12915021000  7.220000e+08     2.726209        5.31   \nYUM           62.850   27003303098  2.289000e+09     6.313636      212.08   \nZBH          108.170   24454698119  2.007400e+09     3.164895        2.39   \nZION          38.430   10670678640  0.000000e+00     3.794579        1.42   \nZTS           52.000   35991109776  1.734000e+09     9.280896       18.09   \n\n        Market Cap in Billion  \nSymbol                         \nMMM                138.721055  \nAOS                 10.783420  \nABT                102.121042  \nABBV               181.386347  \nACN                 98.765856  \n...                       ...  \nXYL                 12.915021  \nYUM                 27.003303  \nZBH                 24.454698  \nZION                10.670679  \nZTS                 35.991110  \n\n[505 rows x 13 columns]",
      "text/html": "<div>\n<style scoped>\n    .dataframe tbody tr th:only-of-type {\n        vertical-align: middle;\n    }\n\n    .dataframe tbody tr th {\n        vertical-align: top;\n    }\n\n    .dataframe thead th {\n        text-align: right;\n    }\n</style>\n<table border=\"1\" class=\"dataframe\">\n  <thead>\n    <tr style=\"text-align: right;\">\n      <th></th>\n      <th>Name</th>\n      <th>Sector</th>\n      <th>Price</th>\n      <th>Price/Earnings</th>\n      <th>Dividend Yield</th>\n      <th>Earnings/Share</th>\n      <th>52 Week Low</th>\n      <th>52 Week High</th>\n      <th>Market Cap</th>\n      <th>EBITDA</th>\n      <th>Price/Sales</th>\n      <th>Price/Book</th>\n      <th>Market Cap in Billion</th>\n    </tr>\n    <tr>\n      <th>Symbol</th>\n      <th></th>\n      <th></th>\n      <th></th>\n      <th></th>\n      <th></th>\n      <th></th>\n      <th></th>\n      <th></th>\n      <th></th>\n      <th></th>\n      <th></th>\n      <th></th>\n      <th></th>\n    </tr>\n  </thead>\n  <tbody>\n    <tr>\n      <th>MMM</th>\n      <td>3M Company</td>\n      <td>Industrials</td>\n      <td>222.89</td>\n      <td>24.31</td>\n      <td>2.332862</td>\n      <td>7.92</td>\n      <td>259.77</td>\n      <td>175.490</td>\n      <td>138721055226</td>\n      <td>9.048000e+09</td>\n      <td>4.390271</td>\n      <td>11.34</td>\n      <td>138.721055</td>\n    </tr>\n    <tr>\n      <th>AOS</th>\n      <td>A.O. Smith Corp</td>\n      <td>Industrials</td>\n      <td>60.24</td>\n      <td>27.76</td>\n      <td>1.147959</td>\n      <td>1.70</td>\n      <td>68.39</td>\n      <td>48.925</td>\n      <td>10783419933</td>\n      <td>6.010000e+08</td>\n      <td>3.575483</td>\n      <td>6.35</td>\n      <td>10.783420</td>\n    </tr>\n    <tr>\n      <th>ABT</th>\n      <td>Abbott Laboratories</td>\n      <td>Health Care</td>\n      <td>56.27</td>\n      <td>22.51</td>\n      <td>1.908982</td>\n      <td>0.26</td>\n      <td>64.60</td>\n      <td>42.280</td>\n      <td>102121042306</td>\n      <td>5.744000e+09</td>\n      <td>3.740480</td>\n      <td>3.19</td>\n      <td>102.121042</td>\n    </tr>\n    <tr>\n      <th>ABBV</th>\n      <td>AbbVie Inc.</td>\n      <td>Health Care</td>\n      <td>108.48</td>\n      <td>19.41</td>\n      <td>2.499560</td>\n      <td>3.29</td>\n      <td>125.86</td>\n      <td>60.050</td>\n      <td>181386347059</td>\n      <td>1.031000e+10</td>\n      <td>6.291571</td>\n      <td>26.14</td>\n      <td>181.386347</td>\n    </tr>\n    <tr>\n      <th>ACN</th>\n      <td>Accenture plc</td>\n      <td>Information Technology</td>\n      <td>150.51</td>\n      <td>25.47</td>\n      <td>1.714470</td>\n      <td>5.44</td>\n      <td>162.60</td>\n      <td>114.820</td>\n      <td>98765855553</td>\n      <td>5.643228e+09</td>\n      <td>2.604117</td>\n      <td>10.62</td>\n      <td>98.765856</td>\n    </tr>\n    <tr>\n      <th>...</th>\n      <td>...</td>\n      <td>...</td>\n      <td>...</td>\n      <td>...</td>\n      <td>...</td>\n      <td>...</td>\n      <td>...</td>\n      <td>...</td>\n      <td>...</td>\n      <td>...</td>\n      <td>...</td>\n      <td>...</td>\n      <td>...</td>\n    </tr>\n    <tr>\n      <th>XYL</th>\n      <td>Xylem Inc.</td>\n      <td>Industrials</td>\n      <td>70.24</td>\n      <td>30.94</td>\n      <td>1.170079</td>\n      <td>1.83</td>\n      <td>76.81</td>\n      <td>46.860</td>\n      <td>12915021000</td>\n      <td>7.220000e+08</td>\n      <td>2.726209</td>\n      <td>5.31</td>\n      <td>12.915021</td>\n    </tr>\n    <tr>\n      <th>YUM</th>\n      <td>Yum! Brands Inc</td>\n      <td>Consumer Discretionary</td>\n      <td>76.30</td>\n      <td>27.25</td>\n      <td>1.797080</td>\n      <td>4.07</td>\n      <td>86.93</td>\n      <td>62.850</td>\n      <td>27003303098</td>\n      <td>2.289000e+09</td>\n      <td>6.313636</td>\n      <td>212.08</td>\n      <td>27.003303</td>\n    </tr>\n    <tr>\n      <th>ZBH</th>\n      <td>Zimmer Biomet Holdings</td>\n      <td>Health Care</td>\n      <td>115.53</td>\n      <td>14.32</td>\n      <td>0.794834</td>\n      <td>9.01</td>\n      <td>133.49</td>\n      <td>108.170</td>\n      <td>24454698119</td>\n      <td>2.007400e+09</td>\n      <td>3.164895</td>\n      <td>2.39</td>\n      <td>24.454698</td>\n    </tr>\n    <tr>\n      <th>ZION</th>\n      <td>Zions Bancorp</td>\n      <td>Financials</td>\n      <td>50.71</td>\n      <td>17.73</td>\n      <td>1.480933</td>\n      <td>2.60</td>\n      <td>55.61</td>\n      <td>38.430</td>\n      <td>10670678640</td>\n      <td>0.000000e+00</td>\n      <td>3.794579</td>\n      <td>1.42</td>\n      <td>10.670679</td>\n    </tr>\n    <tr>\n      <th>ZTS</th>\n      <td>Zoetis</td>\n      <td>Health Care</td>\n      <td>71.51</td>\n      <td>32.80</td>\n      <td>0.682372</td>\n      <td>1.65</td>\n      <td>80.13</td>\n      <td>52.000</td>\n      <td>35991109776</td>\n      <td>1.734000e+09</td>\n      <td>9.280896</td>\n      <td>18.09</td>\n      <td>35.991110</td>\n    </tr>\n  </tbody>\n</table>\n<p>505 rows × 13 columns</p>\n</div>"
     },
     "execution_count": 49,
     "metadata": {},
     "output_type": "execute_result"
    }
   ],
   "source": [
    "# CODE HERE\n",
    "constituents.join(financials)"
   ]
  },
  {
   "cell_type": "markdown",
   "metadata": {},
   "source": [
    "**Task: Print all sectors. How often does each sector occur?**"
   ]
  },
  {
   "cell_type": "code",
   "execution_count": 50,
   "metadata": {},
   "outputs": [
    {
     "data": {
      "text/plain": "Consumer Discretionary        84\nInformation Technology        70\nFinancials                    68\nIndustrials                   67\nHealth Care                   61\nConsumer Staples              34\nReal Estate                   33\nEnergy                        32\nUtilities                     28\nMaterials                     25\nTelecommunication Services     3\nName: Sector, dtype: int64"
     },
     "execution_count": 50,
     "metadata": {},
     "output_type": "execute_result"
    }
   ],
   "source": [
    "# CODE HERE\n",
    "constituents[\"Sector\"].value_counts()"
   ]
  },
  {
   "cell_type": "markdown",
   "metadata": {},
   "source": [
    "**Task: Replace Information Technology by \"IT\"**"
   ]
  },
  {
   "cell_type": "code",
   "execution_count": 54,
   "metadata": {},
   "outputs": [
    {
     "data": {
      "text/plain": "                       Name       Sector\nSymbol                                  \nMMM              3M Company  Industrials\nAOS         A.O. Smith Corp  Industrials\nABT     Abbott Laboratories  Health Care\nABBV            AbbVie Inc.  Health Care\nACN           Accenture plc           IT",
      "text/html": "<div>\n<style scoped>\n    .dataframe tbody tr th:only-of-type {\n        vertical-align: middle;\n    }\n\n    .dataframe tbody tr th {\n        vertical-align: top;\n    }\n\n    .dataframe thead th {\n        text-align: right;\n    }\n</style>\n<table border=\"1\" class=\"dataframe\">\n  <thead>\n    <tr style=\"text-align: right;\">\n      <th></th>\n      <th>Name</th>\n      <th>Sector</th>\n    </tr>\n    <tr>\n      <th>Symbol</th>\n      <th></th>\n      <th></th>\n    </tr>\n  </thead>\n  <tbody>\n    <tr>\n      <th>MMM</th>\n      <td>3M Company</td>\n      <td>Industrials</td>\n    </tr>\n    <tr>\n      <th>AOS</th>\n      <td>A.O. Smith Corp</td>\n      <td>Industrials</td>\n    </tr>\n    <tr>\n      <th>ABT</th>\n      <td>Abbott Laboratories</td>\n      <td>Health Care</td>\n    </tr>\n    <tr>\n      <th>ABBV</th>\n      <td>AbbVie Inc.</td>\n      <td>Health Care</td>\n    </tr>\n    <tr>\n      <th>ACN</th>\n      <td>Accenture plc</td>\n      <td>IT</td>\n    </tr>\n  </tbody>\n</table>\n</div>"
     },
     "execution_count": 54,
     "metadata": {},
     "output_type": "execute_result"
    }
   ],
   "source": [
    "#CODE HERE\n",
    "constituents[\"Sector\"] = constituents[\"Sector\"].replace({\"Information Technology\": \"IT\"})\n",
    "constituents.head()"
   ]
  },
  {
   "cell_type": "markdown",
   "metadata": {},
   "source": [
    "**Task: Add a \\$ before the stock price**"
   ]
  },
  {
   "cell_type": "code",
   "execution_count": 56,
   "metadata": {},
   "outputs": [
    {
     "data": {
      "text/plain": "array(['$222.89', '$60.24', '$56.27', '$108.48', '$150.51', '$65.83',\n       '$145.41', '$185.16', '$109.63', '$11.22', '$10.06', '$178.0',\n       '$179.11', '$83.25', '$65.05', '$152.8', '$62.49', '$64.04',\n       '$105.18', '$114.58', '$108.47', '$220.71', '$77.32', '$164.2',\n       '$240.6', '$37.14', '$90.06', '$1007.71', '$1001.52', '$64.05',\n       '$1350.5', '$52.59', '$48.6', '$63.38', '$88.34', '$58.28',\n       '$133.57', '$76.06', '$152.5', '$91.55', '$72.05', '$173.12',\n       '$84.44', '$56.2', '$82.68', '$96.9', '$148.84', '$230.57',\n       '$136.05', '$37.73', '$38.21', '$155.15', '$45.75', '$89.27',\n       '$41.35', '$24.45', '$64.4', '$85.16', '$35.57', '$104.81',\n       '$108.25', '$718.57', '$154.94', '$110.77', '$27.5', '$38.44',\n       '$29.74', '$62.56', '$51.07', '$211.44', '$191.42', '$68.79',\n       '$311.79', '$509.38', '$25.19', '$329.66', '$51.94', '$112.09',\n       '$25.2', '$55.44', '$62.69', '$229.57', '$63.33', '$90.47',\n       '$32.66', '$23.01', '$36.82', '$44.83', '$91.8', '$66.63',\n       '$64.34', '$66.76', '$145.99', '$111.15', '$41.92', '$51.8',\n       '$91.02', '$100.36', '$25.85', '$16.2', '$61.22', '$37.46',\n       '$48.9', '$348.65', '$2.82', '$112.3', '$266.01', '$140.39',\n       '$47.38', '$189.27', '$100.19', '$70.34', '$149.32', '$38.77',\n       '$71.87', '$42.19', '$84.53', '$153.04', '$41.77', '$43.1',\n       '$75.16', '$68.95', '$38.19', '$89.18', '$35.49', '$140.09',\n       '$53.24', '$74.73', '$208.73', '$28.45', '$178.61', '$19.96',\n       '$103.81', '$30.85', '$50.47', '$165.73', '$70.55', '$44.55',\n       '$92.16', '$91.33', '$71.91', '$153.66', '$51.23', '$56.85',\n       '$34.94', '$98.96', '$72.4', '$22.87', '$21.58', '$43.77', '$95.1',\n       '$101.58', '$73.31', '$96.2', '$68.21', '$116.93', '$98.49',\n       '$74.32', '$24.52', '$91.92', '$48.48', '$93.57', '$79.41',\n       '$41.02', '$127.76', '$58.07', '$123.78', '$116.54', '$66.4',\n       '$72.02', '$35.34', '$101.04', '$46.25', '$114.0', '$409.98',\n       '$55.26', '$218.28', '$131.46', '$241.06', '$56.11', '$35.98',\n       '$123.03', '$60.36', '$73.35', '$77.56', '$76.07', '$137.25',\n       '$171.58', '$52.15', '$108.11', '$239.27', '$92.74', '$31.1',\n       '$30.64', '$133.05', '$46.46', '$40.82', '$55.31', '$80.87',\n       '$45.88', '$10.43', '$69.14', '$62.44', '$38.0', '$17.16',\n       '$31.17', '$61.13', '$114.26', '$206.05', '$14.45', '$21.62',\n       '$53.99', '$40.75', '$96.31', '$78.22', '$100.59', '$246.35',\n       '$30.75', '$258.6', '$47.41', '$19.57', '$47.54', '$149.84',\n       '$53.34', '$96.48', '$95.97', '$22.64', '$64.87', '$70.85',\n       '$43.0', '$15.04', '$78.66', '$38.8', '$181.22', '$146.02',\n       '$32.21', '$18.75', '$19.92', '$262.37', '$15.1', '$225.37',\n       '$169.28', '$43.73', '$156.15', '$209.54', '$83.92', '$87.6',\n       '$42.75', '$67.0', '$147.59', '$56.05', '$21.34', '$138.0',\n       '$152.75', '$381.87', '$31.92', '$95.23', '$32.07', '$114.81',\n       '$62.82', '$118.37', '$126.36', '$36.55', '$107.88', '$24.66',\n       '$103.53', '$65.98', '$20.08', '$111.69', '$14.01', '$16.8',\n       '$98.54', '$60.34', '$71.58', '$27.57', '$47.77', '$198.79',\n       '$165.46', '$162.23', '$43.99', '$59.11', '$23.86', '$74.21',\n       '$73.86', '$38.86', '$334.3', '$46.05', '$95.01', '$105.79',\n       '$178.35', '$58.36', '$24.0', '$15.68', '$62.79', '$133.88',\n       '$79.31', '$208.42', '$40.7', '$160.62', '$16.0', '$101.36',\n       '$158.97', '$150.23', '$78.38', '$54.73', '$44.28', '$601.0',\n       '$33.5', '$60.03', '$79.9', '$40.0', '$85.01', '$85.39', '$256.57',\n       '$74.51', '$42.68', '$119.08', '$61.99', '$152.14', '$51.79',\n       '$98.74', '$39.25', '$75.21', '$32.64', '$13.38', '$55.85',\n       '$250.1', '$27.91', '$26.38', '$36.61', '$15.65', '$15.85',\n       '$145.29', '$33.9', '$62.49', '$22.51', '$25.43', '$47.23',\n       '$136.89', '$96.2', '$324.01', '$56.01', '$24.0', '$60.38',\n       '$217.52', '$252.22', '$68.47', '$75.91', '$54.4', '$46.84',\n       '$66.98', '$111.95', '$174.51', '$32.88', '$61.86', '$72.32',\n       '$66.67', '$18.56', '$110.15', '$72.06', '$84.44', '$33.63',\n       '$38.24', '$100.39', '$92.44', '$74.34', '$169.16', '$149.38',\n       '$101.32', '$110.3', '$29.52', '$144.07', '$1806.06', '$60.38',\n       '$80.22', '$51.07', '$58.33', '$103.38', '$46.73', '$180.49',\n       '$28.67', '$142.68', '$76.85', '$62.42', '$33.51', '$96.42',\n       '$12.82', '$86.06', '$198.74', '$47.56', '$124.65', '$55.58',\n       '$322.62', '$17.9', '$62.72', '$89.26', '$52.26', '$178.73',\n       '$133.31', '$259.4', '$75.06', '$122.45', '$173.31', '$104.03',\n       '$159.85', '$35.6', '$67.4', '$86.46', '$47.44', '$42.62',\n       '$103.36', '$387.65', '$49.38', '$152.18', '$99.04', '$90.61',\n       '$156.72', '$43.4', '$55.63', '$152.86', '$53.77', '$98.54',\n       '$70.55', '$148.01', '$65.8', '$25.59', '$34.98', '$82.62',\n       '$57.0', '$101.99', '$48.85', '$71.11', '$95.27', '$29.1',\n       '$97.66', '$55.54', '$53.29', '$127.76', '$223.17', '$97.65',\n       '$24.13', '$135.01', '$101.35', '$198.73', '$99.62', '$93.02',\n       '$74.36', '$80.52', '$81.17', '$65.94', '$283.0', '$40.05',\n       '$34.56', '$34.09', '$73.92', '$52.65', '$32.92', '$209.09',\n       '$13.14', '$11.95', '$124.86', '$63.37', '$216.46', '$109.28',\n       '$161.99', '$127.48', '$114.87', '$47.87', '$78.75', '$86.77',\n       '$112.82', '$50.92', '$105.62', '$92.28', '$49.04', '$151.6',\n       '$32.71', '$113.86', '$66.18', '$121.47', '$100.02', '$68.22',\n       '$79.12', '$191.79', '$59.5', '$55.4', '$54.67', '$80.09',\n       '$18.81', '$60.93', '$33.6', '$164.95', '$28.56', '$152.36',\n       '$113.56', '$169.28', '$42.44', '$29.8', '$62.82', '$41.26',\n       '$70.24', '$76.3', '$115.53', '$50.71', '$71.51'], dtype='<U8')"
     },
     "execution_count": 56,
     "metadata": {},
     "output_type": "execute_result"
    }
   ],
   "source": [
    "# CODE HERE\n",
    "import numpy as np\n",
    "\n",
    "def to_stock_price(price):\n",
    "    return \"$\" + str(price)\n",
    "\n",
    "np.vectorize(to_stock_price)(financials[\"Price\"])"
   ]
  },
  {
   "cell_type": "code",
   "execution_count": null,
   "outputs": [],
   "source": [],
   "metadata": {
    "collapsed": false,
    "pycharm": {
     "name": "#%%\n"
    }
   }
  }
 ],
 "metadata": {
  "kernelspec": {
   "display_name": "Python 3",
   "language": "python",
   "name": "python3"
  },
  "language_info": {
   "codemirror_mode": {
    "name": "ipython",
    "version": 3
   },
   "file_extension": ".py",
   "mimetype": "text/x-python",
   "name": "python",
   "nbconvert_exporter": "python",
   "pygments_lexer": "ipython3",
   "version": "3.8.3"
  }
 },
 "nbformat": 4,
 "nbformat_minor": 5
}